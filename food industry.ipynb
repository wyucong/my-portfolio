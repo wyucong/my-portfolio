{
 "cells": [
  {
   "cell_type": "code",
   "execution_count": 79,
   "metadata": {
    "collapsed": true
   },
   "outputs": [],
   "source": [
    "import pandas as pd\n",
    "\n",
    "attendence = pd.read_csv(\"birreria-2015-attendance.csv\")\n",
    "sales = pd.read_csv(\"birreria-2015-sales.csv\")"
   ]
  },
  {
   "cell_type": "code",
   "execution_count": 80,
   "metadata": {
    "collapsed": false
   },
   "outputs": [
    {
     "data": {
      "text/html": [
       "<div>\n",
       "<table border=\"1\" class=\"dataframe\">\n",
       "  <thead>\n",
       "    <tr style=\"text-align: right;\">\n",
       "      <th></th>\n",
       "      <th>date</th>\n",
       "      <th>check_count</th>\n",
       "      <th>cover_count</th>\n",
       "    </tr>\n",
       "  </thead>\n",
       "  <tbody>\n",
       "    <tr>\n",
       "      <th>0</th>\n",
       "      <td>150106</td>\n",
       "      <td>141</td>\n",
       "      <td>294</td>\n",
       "    </tr>\n",
       "    <tr>\n",
       "      <th>1</th>\n",
       "      <td>150108</td>\n",
       "      <td>131</td>\n",
       "      <td>270</td>\n",
       "    </tr>\n",
       "    <tr>\n",
       "      <th>2</th>\n",
       "      <td>150131</td>\n",
       "      <td>366</td>\n",
       "      <td>755</td>\n",
       "    </tr>\n",
       "    <tr>\n",
       "      <th>3</th>\n",
       "      <td>150202</td>\n",
       "      <td>87</td>\n",
       "      <td>146</td>\n",
       "    </tr>\n",
       "    <tr>\n",
       "      <th>4</th>\n",
       "      <td>150209</td>\n",
       "      <td>90</td>\n",
       "      <td>160</td>\n",
       "    </tr>\n",
       "    <tr>\n",
       "      <th>5</th>\n",
       "      <td>150211</td>\n",
       "      <td>165</td>\n",
       "      <td>309</td>\n",
       "    </tr>\n",
       "    <tr>\n",
       "      <th>6</th>\n",
       "      <td>150306</td>\n",
       "      <td>308</td>\n",
       "      <td>507</td>\n",
       "    </tr>\n",
       "    <tr>\n",
       "      <th>7</th>\n",
       "      <td>150308</td>\n",
       "      <td>327</td>\n",
       "      <td>620</td>\n",
       "    </tr>\n",
       "    <tr>\n",
       "      <th>8</th>\n",
       "      <td>150313</td>\n",
       "      <td>398</td>\n",
       "      <td>707</td>\n",
       "    </tr>\n",
       "    <tr>\n",
       "      <th>9</th>\n",
       "      <td>150315</td>\n",
       "      <td>265</td>\n",
       "      <td>526</td>\n",
       "    </tr>\n",
       "  </tbody>\n",
       "</table>\n",
       "</div>"
      ],
      "text/plain": [
       "     date  check_count  cover_count\n",
       "0  150106          141          294\n",
       "1  150108          131          270\n",
       "2  150131          366          755\n",
       "3  150202           87          146\n",
       "4  150209           90          160\n",
       "5  150211          165          309\n",
       "6  150306          308          507\n",
       "7  150308          327          620\n",
       "8  150313          398          707\n",
       "9  150315          265          526"
      ]
     },
     "execution_count": 80,
     "metadata": {},
     "output_type": "execute_result"
    }
   ],
   "source": [
    "attendence.head(10)"
   ]
  },
  {
   "cell_type": "code",
   "execution_count": 103,
   "metadata": {
    "collapsed": false
   },
   "outputs": [
    {
     "data": {
      "text/html": [
       "<div>\n",
       "<table border=\"1\" class=\"dataframe\">\n",
       "  <thead>\n",
       "    <tr style=\"text-align: right;\">\n",
       "      <th></th>\n",
       "      <th>check_count</th>\n",
       "      <th>cover_count</th>\n",
       "    </tr>\n",
       "  </thead>\n",
       "  <tbody>\n",
       "    <tr>\n",
       "      <th>check_count</th>\n",
       "      <td>1.000000</td>\n",
       "      <td>0.966682</td>\n",
       "    </tr>\n",
       "    <tr>\n",
       "      <th>cover_count</th>\n",
       "      <td>0.966682</td>\n",
       "      <td>1.000000</td>\n",
       "    </tr>\n",
       "  </tbody>\n",
       "</table>\n",
       "</div>"
      ],
      "text/plain": [
       "             check_count  cover_count\n",
       "check_count     1.000000     0.966682\n",
       "cover_count     0.966682     1.000000"
      ]
     },
     "execution_count": 103,
     "metadata": {},
     "output_type": "execute_result"
    }
   ],
   "source": [
    "attendence[[\"check_count\",\"cover_count\"]].corr(method = \"pearson\")"
   ]
  },
  {
   "cell_type": "markdown",
   "metadata": {},
   "source": [
    "total tables sold that day is highly correlated to total number of people spend money that day."
   ]
  },
  {
   "cell_type": "code",
   "execution_count": 104,
   "metadata": {
    "collapsed": false
   },
   "outputs": [
    {
     "data": {
      "text/html": [
       "<div>\n",
       "<table border=\"1\" class=\"dataframe\">\n",
       "  <thead>\n",
       "    <tr style=\"text-align: right;\">\n",
       "      <th></th>\n",
       "      <th>date</th>\n",
       "      <th>check_count</th>\n",
       "      <th>cover_count</th>\n",
       "      <th>ratio</th>\n",
       "    </tr>\n",
       "  </thead>\n",
       "  <tbody>\n",
       "    <tr>\n",
       "      <th>0</th>\n",
       "      <td>150106</td>\n",
       "      <td>141</td>\n",
       "      <td>294</td>\n",
       "      <td>0.479592</td>\n",
       "    </tr>\n",
       "    <tr>\n",
       "      <th>1</th>\n",
       "      <td>150108</td>\n",
       "      <td>131</td>\n",
       "      <td>270</td>\n",
       "      <td>0.485185</td>\n",
       "    </tr>\n",
       "    <tr>\n",
       "      <th>2</th>\n",
       "      <td>150131</td>\n",
       "      <td>366</td>\n",
       "      <td>755</td>\n",
       "      <td>0.484768</td>\n",
       "    </tr>\n",
       "    <tr>\n",
       "      <th>3</th>\n",
       "      <td>150202</td>\n",
       "      <td>87</td>\n",
       "      <td>146</td>\n",
       "      <td>0.595890</td>\n",
       "    </tr>\n",
       "    <tr>\n",
       "      <th>4</th>\n",
       "      <td>150209</td>\n",
       "      <td>90</td>\n",
       "      <td>160</td>\n",
       "      <td>0.562500</td>\n",
       "    </tr>\n",
       "  </tbody>\n",
       "</table>\n",
       "</div>"
      ],
      "text/plain": [
       "     date  check_count  cover_count     ratio\n",
       "0  150106          141          294  0.479592\n",
       "1  150108          131          270  0.485185\n",
       "2  150131          366          755  0.484768\n",
       "3  150202           87          146  0.595890\n",
       "4  150209           90          160  0.562500"
      ]
     },
     "execution_count": 104,
     "metadata": {},
     "output_type": "execute_result"
    }
   ],
   "source": [
    "attendence[\"ratio\"] = attendence[\"check_count\"]/attendence[\"cover_count\"]\n",
    "attendence.head()"
   ]
  },
  {
   "cell_type": "code",
   "execution_count": 106,
   "metadata": {
    "collapsed": false
   },
   "outputs": [
    {
     "data": {
      "image/png": "[encoded data removed]",
      "text/plain": [
       "<matplotlib.figure.Figure at 0x116f83cd0>"
      ]
     },
     "metadata": {},
     "output_type": "display_data"
    }
   ],
   "source": [
    "plt.hist(attendence[\"ratio\"])\n",
    "plt.show()"
   ]
  },
  {
   "cell_type": "code",
   "execution_count": null,
   "metadata": {
    "collapsed": true
   },
   "outputs": [],
   "source": [
    "In most of time, two people per table spent money on a certain day"
   ]
  },
  {
   "cell_type": "code",
   "execution_count": 114,
   "metadata": {
    "collapsed": false
   },
   "outputs": [],
   "source": [
    "date = attendence[\"date\"]\n"
   ]
  },
  {
   "cell_type": "code",
   "execution_count": 123,
   "metadata": {
    "collapsed": false
   },
   "outputs": [
    {
     "data": {
      "text/html": [
       "<div>\n",
       "<table border=\"1\" class=\"dataframe\">\n",
       "  <thead>\n",
       "    <tr style=\"text-align: right;\">\n",
       "      <th></th>\n",
       "      <th>date</th>\n",
       "      <th>check_count</th>\n",
       "      <th>cover_count</th>\n",
       "      <th>ratio</th>\n",
       "      <th>Month</th>\n",
       "      <th>month</th>\n",
       "    </tr>\n",
       "  </thead>\n",
       "  <tbody>\n",
       "    <tr>\n",
       "      <th>0</th>\n",
       "      <td>150106</td>\n",
       "      <td>141</td>\n",
       "      <td>294</td>\n",
       "      <td>0.479592</td>\n",
       "      <td>1</td>\n",
       "      <td>1</td>\n",
       "    </tr>\n",
       "    <tr>\n",
       "      <th>1</th>\n",
       "      <td>150108</td>\n",
       "      <td>131</td>\n",
       "      <td>270</td>\n",
       "      <td>0.485185</td>\n",
       "      <td>1</td>\n",
       "      <td>1</td>\n",
       "    </tr>\n",
       "    <tr>\n",
       "      <th>2</th>\n",
       "      <td>150131</td>\n",
       "      <td>366</td>\n",
       "      <td>755</td>\n",
       "      <td>0.484768</td>\n",
       "      <td>1</td>\n",
       "      <td>1</td>\n",
       "    </tr>\n",
       "    <tr>\n",
       "      <th>3</th>\n",
       "      <td>150202</td>\n",
       "      <td>87</td>\n",
       "      <td>146</td>\n",
       "      <td>0.595890</td>\n",
       "      <td>2</td>\n",
       "      <td>2</td>\n",
       "    </tr>\n",
       "    <tr>\n",
       "      <th>4</th>\n",
       "      <td>150209</td>\n",
       "      <td>90</td>\n",
       "      <td>160</td>\n",
       "      <td>0.562500</td>\n",
       "      <td>2</td>\n",
       "      <td>2</td>\n",
       "    </tr>\n",
       "  </tbody>\n",
       "</table>\n",
       "</div>"
      ],
      "text/plain": [
       "     date  check_count  cover_count     ratio  Month  month\n",
       "0  150106          141          294  0.479592      1      1\n",
       "1  150108          131          270  0.485185      1      1\n",
       "2  150131          366          755  0.484768      1      1\n",
       "3  150202           87          146  0.595890      2      2\n",
       "4  150209           90          160  0.562500      2      2"
      ]
     },
     "execution_count": 123,
     "metadata": {},
     "output_type": "execute_result"
    }
   ],
   "source": [
    "date = date.apply(str)\n",
    "\n",
    "def to_month(string):\n",
    "    return int(string[2:4])\n",
    "month_attendence = date.apply(to_month)\n",
    "attendence['month'] = month_attendence\n",
    "attendence.head()"
   ]
  },
  {
   "cell_type": "code",
   "execution_count": 124,
   "metadata": {
    "collapsed": false
   },
   "outputs": [
    {
     "data": {
      "text/plain": [
       "month\n",
       "1     0.506030\n",
       "2     0.536783\n",
       "3     0.524705\n",
       "4     0.549382\n",
       "5     0.572917\n",
       "6     0.559359\n",
       "7     0.555827\n",
       "8     0.549887\n",
       "9     0.537181\n",
       "10    0.516658\n",
       "11    0.495460\n",
       "12    0.493866\n",
       "Name: ratio, dtype: float64"
      ]
     },
     "execution_count": 124,
     "metadata": {},
     "output_type": "execute_result"
    }
   ],
   "source": [
    "bymonth_att = attendence.groupby(\"month\")\n",
    "ratio_month = bymonth_att[\"ratio\"].mean()\n",
    "ratio_month"
   ]
  },
  {
   "cell_type": "code",
   "execution_count": 126,
   "metadata": {
    "collapsed": false
   },
   "outputs": [
    {
     "data": {
      "image/png": "[encoded data removed]",
      "text/plain": [
       "<matplotlib.figure.Figure at 0x116546a50>"
      ]
     },
     "metadata": {},
     "output_type": "display_data"
    }
   ],
   "source": [
    "plt.plot(ratio_month)\n",
    "plt.show()"
   ]
  },
  {
   "cell_type": "markdown",
   "metadata": {},
   "source": [
    "it is interesting that number per table who spent money reach peak at may and june. However, trending down when the fall and winter are coming. It might due to in may and june, it is more about friend getting together while in christmas and thanksgiving, it is more about family time! it is worth to note the sales in december also reach its peak."
   ]
  },
  {
   "cell_type": "code",
   "execution_count": 81,
   "metadata": {
    "collapsed": false
   },
   "outputs": [
    {
     "data": {
      "text/html": [
       "<div>\n",
       "<table border=\"1\" class=\"dataframe\">\n",
       "  <thead>\n",
       "    <tr style=\"text-align: right;\">\n",
       "      <th></th>\n",
       "      <th>date</th>\n",
       "      <th>category</th>\n",
       "      <th>net_sales</th>\n",
       "      <th>net_discounts</th>\n",
       "    </tr>\n",
       "  </thead>\n",
       "  <tbody>\n",
       "    <tr>\n",
       "      <th>0</th>\n",
       "      <td>150114</td>\n",
       "      <td>Beverage</td>\n",
       "      <td>5351.29</td>\n",
       "      <td>-19.83</td>\n",
       "    </tr>\n",
       "    <tr>\n",
       "      <th>1</th>\n",
       "      <td>150117</td>\n",
       "      <td>Beverage</td>\n",
       "      <td>13367.35</td>\n",
       "      <td>-105.88</td>\n",
       "    </tr>\n",
       "    <tr>\n",
       "      <th>2</th>\n",
       "      <td>150120</td>\n",
       "      <td>Beverage</td>\n",
       "      <td>4683.83</td>\n",
       "      <td>-79.52</td>\n",
       "    </tr>\n",
       "    <tr>\n",
       "      <th>3</th>\n",
       "      <td>150123</td>\n",
       "      <td>Beverage</td>\n",
       "      <td>8621.61</td>\n",
       "      <td>-48.15</td>\n",
       "    </tr>\n",
       "    <tr>\n",
       "      <th>4</th>\n",
       "      <td>150215</td>\n",
       "      <td>Beverage</td>\n",
       "      <td>9126.48</td>\n",
       "      <td>-25.35</td>\n",
       "    </tr>\n",
       "    <tr>\n",
       "      <th>5</th>\n",
       "      <td>150218</td>\n",
       "      <td>Beverage</td>\n",
       "      <td>5202.57</td>\n",
       "      <td>-49.46</td>\n",
       "    </tr>\n",
       "    <tr>\n",
       "      <th>6</th>\n",
       "      <td>150221</td>\n",
       "      <td>Beverage</td>\n",
       "      <td>9695.04</td>\n",
       "      <td>-43.76</td>\n",
       "    </tr>\n",
       "    <tr>\n",
       "      <th>7</th>\n",
       "      <td>150224</td>\n",
       "      <td>Beverage</td>\n",
       "      <td>3852.84</td>\n",
       "      <td>-249.00</td>\n",
       "    </tr>\n",
       "    <tr>\n",
       "      <th>8</th>\n",
       "      <td>150316</td>\n",
       "      <td>Beverage</td>\n",
       "      <td>6141.26</td>\n",
       "      <td>-84.56</td>\n",
       "    </tr>\n",
       "    <tr>\n",
       "      <th>9</th>\n",
       "      <td>150319</td>\n",
       "      <td>Beverage</td>\n",
       "      <td>10186.16</td>\n",
       "      <td>-26.52</td>\n",
       "    </tr>\n",
       "  </tbody>\n",
       "</table>\n",
       "</div>"
      ],
      "text/plain": [
       "     date  category  net_sales  net_discounts\n",
       "0  150114  Beverage    5351.29         -19.83\n",
       "1  150117  Beverage   13367.35        -105.88\n",
       "2  150120  Beverage    4683.83         -79.52\n",
       "3  150123  Beverage    8621.61         -48.15\n",
       "4  150215  Beverage    9126.48         -25.35\n",
       "5  150218  Beverage    5202.57         -49.46\n",
       "6  150221  Beverage    9695.04         -43.76\n",
       "7  150224  Beverage    3852.84        -249.00\n",
       "8  150316  Beverage    6141.26         -84.56\n",
       "9  150319  Beverage   10186.16         -26.52"
      ]
     },
     "execution_count": 81,
     "metadata": {},
     "output_type": "execute_result"
    }
   ],
   "source": [
    "sales.head(10)"
   ]
  },
  {
   "cell_type": "code",
   "execution_count": 82,
   "metadata": {
    "collapsed": false
   },
   "outputs": [],
   "source": [
    "bycategory = sales.groupby(\"category\")"
   ]
  },
  {
   "cell_type": "code",
   "execution_count": 83,
   "metadata": {
    "collapsed": false
   },
   "outputs": [
    {
     "data": {
      "text/plain": [
       "category       \n",
       "Beverage  count      363.000000\n",
       "          mean     11138.448182\n",
       "          std       4784.523896\n",
       "          min          0.000000\n",
       "          25%       7400.440000\n",
       "          50%      11137.580000\n",
       "          75%      14374.595000\n",
       "          max      24751.040000\n",
       "Food      count      361.000000\n",
       "          mean     13263.465042\n",
       "          std       4992.774187\n",
       "          min          0.000000\n",
       "          25%       9724.000000\n",
       "          50%      13515.000000\n",
       "          75%      17057.600000\n",
       "          max      33031.800000\n",
       "Other     count       48.000000\n",
       "          mean        32.192083\n",
       "          std       1789.418057\n",
       "          min      -2776.320000\n",
       "          25%       -131.795000\n",
       "          50%        -38.500000\n",
       "          75%         -5.250000\n",
       "          max      11686.640000\n",
       "Unknown   count      160.000000\n",
       "          mean       421.501625\n",
       "          std        845.028542\n",
       "          min          0.000000\n",
       "          25%        125.065000\n",
       "          50%        339.300000\n",
       "          75%        493.600000\n",
       "          max      10000.000000\n",
       "Name: net_sales, dtype: float64"
      ]
     },
     "execution_count": 83,
     "metadata": {},
     "output_type": "execute_result"
    }
   ],
   "source": [
    "bycategory[\"net_sales\"].describe()"
   ]
  },
  {
   "cell_type": "code",
   "execution_count": 84,
   "metadata": {
    "collapsed": false
   },
   "outputs": [
    {
     "name": "stdout",
     "output_type": "stream",
     "text": [
      "category\n",
      "Beverage    4043256.69\n",
      "Food        4788110.88\n",
      "Other          1545.22\n",
      "Unknown       67440.26\n",
      "Name: net_sales, dtype: float64\n"
     ]
    },
    {
     "data": {
      "image/png": "[encoded data removed]",
      "text/plain": [
       "<matplotlib.figure.Figure at 0x116bf4590>"
      ]
     },
     "metadata": {},
     "output_type": "display_data"
    },
    {
     "data": {
      "image/png": "[encoded data removed]",
      "text/plain": [
       "<matplotlib.figure.Figure at 0x116a81ad0>"
      ]
     },
     "metadata": {},
     "output_type": "display_data"
    }
   ],
   "source": [
    "import matplotlib.pyplot as plt\n",
    "%matplotlib inline\n",
    "sum_cat = bycategory[\"net_sales\"].sum()\n",
    "print(sum_cat)\n",
    "plt.bar(range(len(sum_cat)),sum_cat,tick_label = sum_cat.index)\n",
    "plt.title(\"sales by category\")\n",
    "plt.show()\n",
    "count_cat = bycategory[\"net_sales\"].count()\n",
    "plt.bar(range(len(count_cat)),count_cat,tick_label = count_cat.index)\n",
    "plt.title(\"counts by category\")\n",
    "plt.show()\n",
    "\n"
   ]
  },
  {
   "cell_type": "markdown",
   "metadata": {},
   "source": [
    "We can see from the summary by category that the sales performance of beverage and food are the highest. the number of transactions of beverage is higher however the average and median of revenue of food is higher. therefore, I will focus mainly on the category of beverage and food later on."
   ]
  },
  {
   "cell_type": "code",
   "execution_count": 85,
   "metadata": {
    "collapsed": false
   },
   "outputs": [
    {
     "data": {
      "text/plain": [
       "(932, 4)"
      ]
     },
     "execution_count": 85,
     "metadata": {},
     "output_type": "execute_result"
    }
   ],
   "source": [
    "sales.shape"
   ]
  },
  {
   "cell_type": "code",
   "execution_count": 102,
   "metadata": {
    "collapsed": false
   },
   "outputs": [
    {
     "data": {
      "text/html": [
       "<div>\n",
       "<table border=\"1\" class=\"dataframe\">\n",
       "  <thead>\n",
       "    <tr style=\"text-align: right;\">\n",
       "      <th></th>\n",
       "      <th>net_sales</th>\n",
       "      <th>net_discounts</th>\n",
       "    </tr>\n",
       "  </thead>\n",
       "  <tbody>\n",
       "    <tr>\n",
       "      <th>net_sales</th>\n",
       "      <td>1.000000</td>\n",
       "      <td>-0.244149</td>\n",
       "    </tr>\n",
       "    <tr>\n",
       "      <th>net_discounts</th>\n",
       "      <td>-0.244149</td>\n",
       "      <td>1.000000</td>\n",
       "    </tr>\n",
       "  </tbody>\n",
       "</table>\n",
       "</div>"
      ],
      "text/plain": [
       "               net_sales  net_discounts\n",
       "net_sales       1.000000      -0.244149\n",
       "net_discounts  -0.244149       1.000000"
      ]
     },
     "execution_count": 102,
     "metadata": {},
     "output_type": "execute_result"
    }
   ],
   "source": [
    "beverage = sales[sales[\"category\"] == \"Beverage\"]\n",
    "beverage[[\"net_sales\",\"net_discounts\"]].corr(method = \"pearson\")"
   ]
  },
  {
   "cell_type": "markdown",
   "metadata": {},
   "source": [
    "we can see that net sales and net discounts are correlated but weakly correlated."
   ]
  },
  {
   "cell_type": "code",
   "execution_count": 86,
   "metadata": {
    "collapsed": false
   },
   "outputs": [],
   "source": [
    "\n",
    "date_beverage = beverage[\"date\"]"
   ]
  },
  {
   "cell_type": "code",
   "execution_count": 87,
   "metadata": {
    "collapsed": false
   },
   "outputs": [
    {
     "name": "stderr",
     "output_type": "stream",
     "text": [
      "/Applications/anaconda/lib/python2.7/site-packages/ipykernel/__main__.py:7: SettingWithCopyWarning: \n",
      "A value is trying to be set on a copy of a slice from a DataFrame.\n",
      "Try using .loc[row_indexer,col_indexer] = value instead\n",
      "\n",
      "See the caveats in the documentation: http://pandas.pydata.org/pandas-docs/stable/indexing.html#indexing-view-versus-copy\n"
     ]
    }
   ],
   "source": [
    "\n",
    "date_beverage = date_beverage.apply(str)\n",
    "\n",
    "def to_month(string):\n",
    "    return int(string[2:4])\n",
    "month_beverage = date_beverage.apply(to_month)\n",
    "beverage['Month'] = month_beverage"
   ]
  },
  {
   "cell_type": "code",
   "execution_count": 88,
   "metadata": {
    "collapsed": false
   },
   "outputs": [
    {
     "data": {
      "text/html": [
       "<div>\n",
       "<table border=\"1\" class=\"dataframe\">\n",
       "  <thead>\n",
       "    <tr style=\"text-align: right;\">\n",
       "      <th></th>\n",
       "      <th>date</th>\n",
       "      <th>category</th>\n",
       "      <th>net_sales</th>\n",
       "      <th>net_discounts</th>\n",
       "      <th>Month</th>\n",
       "    </tr>\n",
       "  </thead>\n",
       "  <tbody>\n",
       "    <tr>\n",
       "      <th>0</th>\n",
       "      <td>150114</td>\n",
       "      <td>Beverage</td>\n",
       "      <td>5351.29</td>\n",
       "      <td>-19.83</td>\n",
       "      <td>1</td>\n",
       "    </tr>\n",
       "    <tr>\n",
       "      <th>1</th>\n",
       "      <td>150117</td>\n",
       "      <td>Beverage</td>\n",
       "      <td>13367.35</td>\n",
       "      <td>-105.88</td>\n",
       "      <td>1</td>\n",
       "    </tr>\n",
       "    <tr>\n",
       "      <th>2</th>\n",
       "      <td>150120</td>\n",
       "      <td>Beverage</td>\n",
       "      <td>4683.83</td>\n",
       "      <td>-79.52</td>\n",
       "      <td>1</td>\n",
       "    </tr>\n",
       "    <tr>\n",
       "      <th>3</th>\n",
       "      <td>150123</td>\n",
       "      <td>Beverage</td>\n",
       "      <td>8621.61</td>\n",
       "      <td>-48.15</td>\n",
       "      <td>1</td>\n",
       "    </tr>\n",
       "    <tr>\n",
       "      <th>4</th>\n",
       "      <td>150215</td>\n",
       "      <td>Beverage</td>\n",
       "      <td>9126.48</td>\n",
       "      <td>-25.35</td>\n",
       "      <td>2</td>\n",
       "    </tr>\n",
       "  </tbody>\n",
       "</table>\n",
       "</div>"
      ],
      "text/plain": [
       "     date  category  net_sales  net_discounts  Month\n",
       "0  150114  Beverage    5351.29         -19.83      1\n",
       "1  150117  Beverage   13367.35        -105.88      1\n",
       "2  150120  Beverage    4683.83         -79.52      1\n",
       "3  150123  Beverage    8621.61         -48.15      1\n",
       "4  150215  Beverage    9126.48         -25.35      2"
      ]
     },
     "execution_count": 88,
     "metadata": {},
     "output_type": "execute_result"
    }
   ],
   "source": [
    "beverage.head()"
   ]
  },
  {
   "cell_type": "code",
   "execution_count": 92,
   "metadata": {
    "collapsed": false
   },
   "outputs": [
    {
     "data": {
      "text/plain": [
       "Month\n",
       "1     198550.56\n",
       "2     191003.68\n",
       "3     249155.53\n",
       "4     390912.68\n",
       "5     475460.74\n",
       "6     411876.84\n",
       "7     384434.73\n",
       "8     399113.58\n",
       "9     363674.54\n",
       "10    307994.23\n",
       "11    248897.07\n",
       "12    422182.51\n",
       "Name: net_sales, dtype: float64"
      ]
     },
     "execution_count": 92,
     "metadata": {},
     "output_type": "execute_result"
    }
   ],
   "source": [
    "bymonth = beverage.groupby(\"Month\")\n",
    "month_sale = bymonth[\"net_sales\"].sum()\n",
    "month_sale"
   ]
  },
  {
   "cell_type": "code",
   "execution_count": 91,
   "metadata": {
    "collapsed": false
   },
   "outputs": [
    {
     "data": {
      "image/png": "[encoded data removed]",
      "text/plain": [
       "<matplotlib.figure.Figure at 0x11660d390>"
      ]
     },
     "metadata": {},
     "output_type": "display_data"
    }
   ],
   "source": [
    "plt.plot(month_sale)\n",
    "plt.show()"
   ]
  },
  {
   "cell_type": "markdown",
   "metadata": {},
   "source": [
    "As we can see from the graph above, the sale of beverage reach its peak in May and Jun. I guess it is because it is graduation season and summer is coming. In Febueray, the sales also reach its peak."
   ]
  },
  {
   "cell_type": "code",
   "execution_count": 93,
   "metadata": {
    "collapsed": false
   },
   "outputs": [
    {
     "name": "stderr",
     "output_type": "stream",
     "text": [
      "/Applications/anaconda/lib/python2.7/site-packages/ipykernel/__main__.py:8: SettingWithCopyWarning: \n",
      "A value is trying to be set on a copy of a slice from a DataFrame.\n",
      "Try using .loc[row_indexer,col_indexer] = value instead\n",
      "\n",
      "See the caveats in the documentation: http://pandas.pydata.org/pandas-docs/stable/indexing.html#indexing-view-versus-copy\n"
     ]
    }
   ],
   "source": [
    "food = sales[sales[\"category\"] == \"Food\"]\n",
    "date_food = food[\"date\"]\n",
    "date_food = date_food.apply(str)\n",
    "\n",
    "def to_month(string):\n",
    "    return int(string[2:4])\n",
    "month_food = date_food.apply(to_month)\n",
    "food['Month'] = month_food"
   ]
  },
  {
   "cell_type": "code",
   "execution_count": 94,
   "metadata": {
    "collapsed": false
   },
   "outputs": [
    {
     "data": {
      "text/html": [
       "<div>\n",
       "<table border=\"1\" class=\"dataframe\">\n",
       "  <thead>\n",
       "    <tr style=\"text-align: right;\">\n",
       "      <th></th>\n",
       "      <th>date</th>\n",
       "      <th>category</th>\n",
       "      <th>net_sales</th>\n",
       "      <th>net_discounts</th>\n",
       "      <th>Month</th>\n",
       "    </tr>\n",
       "  </thead>\n",
       "  <tbody>\n",
       "    <tr>\n",
       "      <th>45</th>\n",
       "      <td>150106</td>\n",
       "      <td>Food</td>\n",
       "      <td>5979.00</td>\n",
       "      <td>-50.00</td>\n",
       "      <td>1</td>\n",
       "    </tr>\n",
       "    <tr>\n",
       "      <th>46</th>\n",
       "      <td>150109</td>\n",
       "      <td>Food</td>\n",
       "      <td>8175.80</td>\n",
       "      <td>-79.20</td>\n",
       "      <td>1</td>\n",
       "    </tr>\n",
       "    <tr>\n",
       "      <th>47</th>\n",
       "      <td>150112</td>\n",
       "      <td>Food</td>\n",
       "      <td>6822.65</td>\n",
       "      <td>-17.35</td>\n",
       "      <td>1</td>\n",
       "    </tr>\n",
       "    <tr>\n",
       "      <th>48</th>\n",
       "      <td>150204</td>\n",
       "      <td>Food</td>\n",
       "      <td>8114.00</td>\n",
       "      <td>-76.00</td>\n",
       "      <td>2</td>\n",
       "    </tr>\n",
       "    <tr>\n",
       "      <th>49</th>\n",
       "      <td>150207</td>\n",
       "      <td>Food</td>\n",
       "      <td>13515.00</td>\n",
       "      <td>-112.00</td>\n",
       "      <td>2</td>\n",
       "    </tr>\n",
       "  </tbody>\n",
       "</table>\n",
       "</div>"
      ],
      "text/plain": [
       "      date category  net_sales  net_discounts  Month\n",
       "45  150106     Food    5979.00         -50.00      1\n",
       "46  150109     Food    8175.80         -79.20      1\n",
       "47  150112     Food    6822.65         -17.35      1\n",
       "48  150204     Food    8114.00         -76.00      2\n",
       "49  150207     Food   13515.00        -112.00      2"
      ]
     },
     "execution_count": 94,
     "metadata": {},
     "output_type": "execute_result"
    }
   ],
   "source": [
    "food.head()"
   ]
  },
  {
   "cell_type": "code",
   "execution_count": null,
   "metadata": {
    "collapsed": true
   },
   "outputs": [],
   "source": []
  },
  {
   "cell_type": "code",
   "execution_count": 97,
   "metadata": {
    "collapsed": false
   },
   "outputs": [
    {
     "name": "stdout",
     "output_type": "stream",
     "text": [
      "Month\n",
      "1     198550.56\n",
      "2     191003.68\n",
      "3     249155.53\n",
      "4     390912.68\n",
      "5     475460.74\n",
      "6     411876.84\n",
      "7     384434.73\n",
      "8     399113.58\n",
      "9     363674.54\n",
      "10    307994.23\n",
      "11    248897.07\n",
      "12    422182.51\n",
      "Name: net_sales, dtype: float64\n"
     ]
    },
    {
     "data": {
      "image/png": "[encoded data removed]",
      "text/plain": [
       "<matplotlib.figure.Figure at 0x112ca8290>"
      ]
     },
     "metadata": {},
     "output_type": "display_data"
    }
   ],
   "source": [
    "bymonth_beverage = beverage.groupby(\"Month\")\n",
    "month_sale_beverage = bymonth_beverage[\"net_sales\"].sum()\n",
    "month_sale_beverage\n",
    "print(month_sale_beverage)\n",
    "plt.plot(month_sale_beverage)\n",
    "plt.show()"
   ]
  },
  {
   "cell_type": "markdown",
   "metadata": {},
   "source": [
    "Similary, the sales of food also reach its peak at May, June and Dec. It seems, when people order drink, they also order food. Now let's look at discount."
   ]
  },
  {
   "cell_type": "code",
   "execution_count": 98,
   "metadata": {
    "collapsed": false
   },
   "outputs": [
    {
     "data": {
      "text/plain": [
       "category       \n",
       "Beverage  count     363.000000\n",
       "          mean      -84.692920\n",
       "          std        84.990465\n",
       "          min      -629.000000\n",
       "          25%      -110.325000\n",
       "          50%       -64.180000\n",
       "          75%       -27.055000\n",
       "          max         0.000000\n",
       "Food      count     361.000000\n",
       "          mean     -132.376953\n",
       "          std       136.416725\n",
       "          min     -1467.000000\n",
       "          25%      -167.000000\n",
       "          50%       -93.000000\n",
       "          75%       -59.000000\n",
       "          max         0.000000\n",
       "Other     count      48.000000\n",
       "          mean        0.000000\n",
       "          std         0.000000\n",
       "          min         0.000000\n",
       "          25%         0.000000\n",
       "          50%         0.000000\n",
       "          75%         0.000000\n",
       "          max         0.000000\n",
       "Unknown   count     160.000000\n",
       "          mean       -0.009312\n",
       "          std         0.117795\n",
       "          min        -1.490000\n",
       "          25%         0.000000\n",
       "          50%         0.000000\n",
       "          75%         0.000000\n",
       "          max         0.000000\n",
       "Name: net_discounts, dtype: float64"
      ]
     },
     "execution_count": 98,
     "metadata": {},
     "output_type": "execute_result"
    }
   ],
   "source": [
    "bycategory[\"net_discounts\"].describe()"
   ]
  },
  {
   "cell_type": "code",
   "execution_count": 100,
   "metadata": {
    "collapsed": false
   },
   "outputs": [
    {
     "name": "stdout",
     "output_type": "stream",
     "text": [
      "category\n",
      "Beverage   -30743.53\n",
      "Food       -47788.08\n",
      "Other           0.00\n",
      "Unknown        -1.49\n",
      "Name: net_discounts, dtype: float64\n"
     ]
    },
    {
     "data": {
      "image/png": "[encoded data removed]",
      "text/plain": [
       "<matplotlib.figure.Figure at 0x11660d6d0>"
      ]
     },
     "metadata": {},
     "output_type": "display_data"
    }
   ],
   "source": [
    "sum_cat = bycategory[\"net_discounts\"].sum()\n",
    "print(sum_cat)\n",
    "plt.bar(range(len(sum_cat)),sum_cat,tick_label = sum_cat.index)\n",
    "plt.title(\"discounts value by category\")\n",
    "plt.show()\n"
   ]
  },
  {
   "cell_type": "markdown",
   "metadata": {},
   "source": [
    "We can see that most of discounts concentrate on beverage and food. For values, food has more discount tba beverage."
   ]
  }
 ],
 "metadata": {
  "anaconda-cloud": {},
  "kernelspec": {
   "display_name": "Python [Root]",
   "language": "python",
   "name": "Python [Root]"
  },
  "language_info": {
   "codemirror_mode": {
    "name": "ipython",
    "version": 2
   },
   "file_extension": ".py",
   "mimetype": "text/x-python",
   "name": "python",
   "nbconvert_exporter": "python",
   "pygments_lexer": "ipython2",
   "version": "2.7.12"
  }
 },
 "nbformat": 4,
 "nbformat_minor": 0
}
